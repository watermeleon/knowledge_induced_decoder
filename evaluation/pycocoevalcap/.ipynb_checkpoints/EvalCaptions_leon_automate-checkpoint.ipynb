{
 "cells": [
  {
   "cell_type": "code",
   "execution_count": 1,
   "id": "6d32c721",
   "metadata": {},
   "outputs": [],
   "source": [
    "from pycocotools.coco import COCO\n",
    "from pycocoevalcap.eval import COCOEvalCap"
   ]
  },
  {
   "cell_type": "code",
   "execution_count": 8,
   "id": "8190a043",
   "metadata": {},
   "outputs": [],
   "source": [
    "# For nocaps:\n",
    "annFile='../Datasets/NoCaps/nocaps_val_4500_captions.json'\n",
    "resFile = \"../knowledge_induced_decoder/generated_sentences/vit_KG_pll_base_enc1_pttok_rc3_coco_beam_1_Nocaps.json\""
   ]
  },
  {
   "cell_type": "code",
   "execution_count": 2,
   "id": "739dbdcb",
   "metadata": {},
   "outputs": [],
   "source": [
    "# result for coco\n",
    "annotation_file = 'captions_val2014.json'\n",
    "# results_file = 'captions_val2014_fakecap_results.json'\n",
    "# results_file = \"../../generated_sentences/vit_KG_pll_base_enc1_pttok_rc3_coco_beam_1.json\"\n",
    "results_file = \"../../generated_sentences/vit_KG_vanil_base_enc1_final_org_SegParam2_coco.json\"\n",
    "\n"
   ]
  },
  {
   "cell_type": "code",
   "execution_count": 11,
   "id": "fdce2169",
   "metadata": {},
   "outputs": [],
   "source": [
    "datatype = \"coco\"\n",
    "# model_file = \"../../generated_sentences/vit_kw_pll_base_enc1_final_org_SegParam2\"\n",
    "model_file = \"../../generated_sentences/scst_gen/vit_kw_pll_base_enc1_final_org_SegParam2\"\n",
    "\n",
    "if datatype == \"coco\":\n",
    "    annotation_file = 'captions_val2014.json'\n",
    "else:\n",
    "    annotation_file='../../../Datasets/NoCaps/nocaps_val_4500_captions.json'\n",
    "results_file = model_file + \"_\" +datatype + \".json\""
   ]
  },
  {
   "cell_type": "code",
   "execution_count": 2,
   "id": "01fd83e4",
   "metadata": {},
   "outputs": [],
   "source": [
    "# %pip install tabulate\n",
    "import os.path\n",
    "from os import path\n",
    "import json\n",
    "from tabulate import tabulate\n",
    "def load_json(filename):\n",
    "    \"Wrapper function to load JSON data.\"\n",
    "    with open(filename) as f:\n",
    "        data = json.load(f)\n",
    "    return data"
   ]
  },
  {
   "cell_type": "code",
   "execution_count": 9,
   "id": "c332fcc2",
   "metadata": {
    "scrolled": true
   },
   "outputs": [
    {
     "name": "stdout",
     "output_type": "stream",
     "text": [
      "9\n",
      "axolotl_NoRel\n",
      "loading annotations into memory...\n",
      "Done (t=0.19s)\n",
      "creating index...\n",
      "index created!\n",
      "Loading and preparing results...\n",
      "DONE (t=0.02s)\n",
      "creating index...\n",
      "index created!\n",
      "tokenization...\n"
     ]
    },
    {
     "name": "stderr",
     "output_type": "stream",
     "text": [
      "PTBTokenizer tokenized 307085 tokens at 1401040.80 tokens per second.\n",
      "PTBTokenizer tokenized 49924 tokens at 445014.01 tokens per second.\n"
     ]
    },
    {
     "name": "stdout",
     "output_type": "stream",
     "text": [
      "setting up scorers...\n",
      "computing Bleu score...\n",
      "{'testlen': 44925, 'reflen': 45582, 'guess': [44925, 39925, 34926, 29931], 'correct': [35063, 19627, 9737, 4744]}\n",
      "ratio: 0.9855864156903825\n",
      "Bleu_1: 0.769\n",
      "Bleu_2: 0.610\n",
      "Bleu_3: 0.468\n",
      "Bleu_4: 0.356\n",
      "computing METEOR score...\n",
      "METEOR: 0.272\n",
      "computing Rouge score...\n",
      "ROUGE_L: 0.565\n",
      "computing CIDEr score...\n",
      "CIDEr: 1.136\n",
      "computing SPICE score...\n"
     ]
    },
    {
     "name": "stderr",
     "output_type": "stream",
     "text": [
      "WARNING: An illegal reflective access operation has occurred\n",
      "WARNING: Illegal reflective access by org.nustaq.serialization.FSTClazzInfo (file:/home/leonardo/anaconda3/envs/clip_prefix_caption/lib/python3.9/site-packages/pycocoevalcap/spice/lib/fst-2.47.jar) to field java.lang.String.value\n",
      "WARNING: Please consider reporting this to the maintainers of org.nustaq.serialization.FSTClazzInfo\n",
      "WARNING: Use --illegal-access=warn to enable warnings of further illegal reflective access operations\n",
      "WARNING: All illegal access operations will be denied in a future release\n",
      "Parsing reference captions\n",
      "Parsing test captions\n",
      "Warning: Nashorn engine is planned to be removed from a future JDK release\n"
     ]
    },
    {
     "name": "stdout",
     "output_type": "stream",
     "text": [
      "SPICE evaluation took: 5.819 s\n",
      "SPICE: 0.202\n",
      "[76.91476208572921, 35.56036044760507, 27.15892653273078, 56.47719829051805, 113.64803261359286, 20.17679988218767]\n",
      "axolotl_RCl2r\n",
      "loading annotations into memory...\n",
      "Done (t=0.25s)\n",
      "creating index...\n",
      "index created!\n",
      "Loading and preparing results...\n",
      "DONE (t=0.02s)\n",
      "creating index...\n",
      "index created!\n",
      "tokenization...\n"
     ]
    },
    {
     "name": "stderr",
     "output_type": "stream",
     "text": [
      "PTBTokenizer tokenized 307085 tokens at 1114056.62 tokens per second.\n",
      "PTBTokenizer tokenized 50700 tokens at 348694.67 tokens per second.\n"
     ]
    },
    {
     "name": "stdout",
     "output_type": "stream",
     "text": [
      "setting up scorers...\n",
      "computing Bleu score...\n",
      "{'testlen': 45701, 'reflen': 46162, 'guess': [45701, 40701, 35707, 30722], 'correct': [35043, 19401, 9759, 4903]}\n",
      "ratio: 0.990013430960509\n",
      "Bleu_1: 0.759\n",
      "Bleu_2: 0.599\n",
      "Bleu_3: 0.459\n",
      "Bleu_4: 0.352\n",
      "computing METEOR score...\n",
      "METEOR: 0.271\n",
      "computing Rouge score...\n",
      "ROUGE_L: 0.561\n",
      "computing CIDEr score...\n",
      "CIDEr: 1.129\n",
      "computing SPICE score...\n"
     ]
    },
    {
     "name": "stderr",
     "output_type": "stream",
     "text": [
      "WARNING: An illegal reflective access operation has occurred\n",
      "WARNING: Illegal reflective access by org.nustaq.serialization.FSTClazzInfo (file:/home/leonardo/anaconda3/envs/clip_prefix_caption/lib/python3.9/site-packages/pycocoevalcap/spice/lib/fst-2.47.jar) to field java.lang.String.value\n",
      "WARNING: Please consider reporting this to the maintainers of org.nustaq.serialization.FSTClazzInfo\n",
      "WARNING: Use --illegal-access=warn to enable warnings of further illegal reflective access operations\n",
      "WARNING: All illegal access operations will be denied in a future release\n",
      "Parsing reference captions\n",
      "Parsing test captions\n",
      "Warning: Nashorn engine is planned to be removed from a future JDK release\n"
     ]
    },
    {
     "name": "stdout",
     "output_type": "stream",
     "text": [
      "SPICE evaluation took: 5.777 s\n",
      "SPICE: 0.202\n",
      "[75.90925234170382, 35.17700674056603, 27.08162852871117, 56.069302820622916, 112.94460319491908, 20.23259033067745]\n",
      "axolotl_SEGKW\n",
      "loading annotations into memory...\n",
      "Done (t=0.25s)\n",
      "creating index...\n",
      "index created!\n",
      "Loading and preparing results...\n",
      "DONE (t=0.02s)\n",
      "creating index...\n",
      "index created!\n",
      "tokenization...\n"
     ]
    },
    {
     "name": "stderr",
     "output_type": "stream",
     "text": [
      "PTBTokenizer tokenized 307085 tokens at 1033713.63 tokens per second.\n",
      "PTBTokenizer tokenized 51280 tokens at 297131.08 tokens per second.\n"
     ]
    },
    {
     "name": "stdout",
     "output_type": "stream",
     "text": [
      "setting up scorers...\n",
      "computing Bleu score...\n",
      "{'testlen': 46281, 'reflen': 46542, 'guess': [46281, 41281, 36281, 31283], 'correct': [35753, 19993, 10019, 4940]}\n",
      "ratio: 0.9943921619182461\n",
      "Bleu_1: 0.768\n",
      "Bleu_2: 0.608\n",
      "Bleu_3: 0.467\n",
      "Bleu_4: 0.355\n",
      "computing METEOR score...\n",
      "METEOR: 0.272\n",
      "computing Rouge score...\n",
      "ROUGE_L: 0.565\n",
      "computing CIDEr score...\n",
      "CIDEr: 1.133\n",
      "computing SPICE score...\n"
     ]
    },
    {
     "name": "stderr",
     "output_type": "stream",
     "text": [
      "WARNING: An illegal reflective access operation has occurred\n",
      "WARNING: Illegal reflective access by org.nustaq.serialization.FSTClazzInfo (file:/home/leonardo/anaconda3/envs/clip_prefix_caption/lib/python3.9/site-packages/pycocoevalcap/spice/lib/fst-2.47.jar) to field java.lang.String.value\n",
      "WARNING: Please consider reporting this to the maintainers of org.nustaq.serialization.FSTClazzInfo\n",
      "WARNING: Use --illegal-access=warn to enable warnings of further illegal reflective access operations\n",
      "WARNING: All illegal access operations will be denied in a future release\n",
      "Parsing reference captions\n",
      "Parsing test captions\n",
      "Warning: Nashorn engine is planned to be removed from a future JDK release\n"
     ]
    },
    {
     "name": "stdout",
     "output_type": "stream",
     "text": [
      "SPICE evaluation took: 6.015 s\n",
      "SPICE: 0.202\n",
      "[76.81757035985952, 35.53866507823537, 27.200236489732095, 56.467014065000384, 113.34862985447319, 20.248169368931016]\n",
      "axolotl_\n",
      "loading annotations into memory...\n",
      "Done (t=0.24s)\n",
      "creating index...\n",
      "index created!\n",
      "Loading and preparing results...\n",
      "DONE (t=0.02s)\n",
      "creating index...\n",
      "index created!\n",
      "tokenization...\n"
     ]
    },
    {
     "name": "stderr",
     "output_type": "stream",
     "text": [
      "PTBTokenizer tokenized 307085 tokens at 1164211.74 tokens per second.\n",
      "PTBTokenizer tokenized 51382 tokens at 376731.86 tokens per second.\n"
     ]
    },
    {
     "name": "stdout",
     "output_type": "stream",
     "text": [
      "setting up scorers...\n",
      "computing Bleu score...\n",
      "{'testlen': 46383, 'reflen': 46465, 'guess': [46383, 41383, 36389, 31397], 'correct': [37998, 21237, 10587, 5002]}\n",
      "ratio: 0.9982352308188746\n",
      "Bleu_1: 0.818\n",
      "Bleu_2: 0.647\n",
      "Bleu_3: 0.496\n",
      "Bleu_4: 0.373\n",
      "computing METEOR score...\n",
      "METEOR: 0.276\n",
      "computing Rouge score...\n",
      "ROUGE_L: 0.573\n",
      "computing CIDEr score...\n",
      "CIDEr: 1.212\n",
      "computing SPICE score...\n"
     ]
    },
    {
     "name": "stderr",
     "output_type": "stream",
     "text": [
      "WARNING: An illegal reflective access operation has occurred\n",
      "WARNING: Illegal reflective access by org.nustaq.serialization.FSTClazzInfo (file:/home/leonardo/anaconda3/envs/clip_prefix_caption/lib/python3.9/site-packages/pycocoevalcap/spice/lib/fst-2.47.jar) to field java.lang.String.value\n",
      "WARNING: Please consider reporting this to the maintainers of org.nustaq.serialization.FSTClazzInfo\n",
      "WARNING: Use --illegal-access=warn to enable warnings of further illegal reflective access operations\n",
      "WARNING: All illegal access operations will be denied in a future release\n",
      "Parsing reference captions\n",
      "Parsing test captions\n",
      "Warning: Nashorn engine is planned to be removed from a future JDK release\n"
     ]
    },
    {
     "name": "stdout",
     "output_type": "stream",
     "text": [
      "SPICE evaluation took: 6.201 s\n",
      "SPICE: 0.206\n",
      "[81.77755448156033, 37.29624181910354, 27.594940853934148, 57.31212340142397, 121.19710397575983, 20.56447214948337]\n",
      "axolotl_plldec1\n",
      "loading annotations into memory...\n",
      "Done (t=0.25s)\n",
      "creating index...\n",
      "index created!\n",
      "Loading and preparing results...\n",
      "DONE (t=0.02s)\n",
      "creating index...\n",
      "index created!\n",
      "tokenization...\n"
     ]
    },
    {
     "name": "stderr",
     "output_type": "stream",
     "text": [
      "PTBTokenizer tokenized 307085 tokens at 886359.63 tokens per second.\n",
      "PTBTokenizer tokenized 52524 tokens at 313660.91 tokens per second.\n"
     ]
    },
    {
     "name": "stdout",
     "output_type": "stream",
     "text": [
      "setting up scorers...\n",
      "computing Bleu score...\n",
      "{'testlen': 47525, 'reflen': 47397, 'guess': [47525, 42525, 37534, 32544], 'correct': [36339, 20256, 10031, 4921]}\n",
      "ratio: 1.0027005928645063\n",
      "Bleu_1: 0.765\n",
      "Bleu_2: 0.604\n",
      "Bleu_3: 0.460\n",
      "Bleu_4: 0.348\n",
      "computing METEOR score...\n",
      "METEOR: 0.273\n",
      "computing Rouge score...\n",
      "ROUGE_L: 0.564\n",
      "computing CIDEr score...\n",
      "CIDEr: 1.126\n",
      "computing SPICE score...\n"
     ]
    },
    {
     "name": "stderr",
     "output_type": "stream",
     "text": [
      "WARNING: An illegal reflective access operation has occurred\n",
      "WARNING: Illegal reflective access by org.nustaq.serialization.FSTClazzInfo (file:/home/leonardo/anaconda3/envs/clip_prefix_caption/lib/python3.9/site-packages/pycocoevalcap/spice/lib/fst-2.47.jar) to field java.lang.String.value\n",
      "WARNING: Please consider reporting this to the maintainers of org.nustaq.serialization.FSTClazzInfo\n",
      "WARNING: Use --illegal-access=warn to enable warnings of further illegal reflective access operations\n",
      "WARNING: All illegal access operations will be denied in a future release\n",
      "Parsing reference captions\n",
      "Parsing test captions\n",
      "Warning: Nashorn engine is planned to be removed from a future JDK release\n"
     ]
    },
    {
     "name": "stdout",
     "output_type": "stream",
     "text": [
      "SPICE evaluation took: 6.466 s\n",
      "SPICE: 0.204\n",
      "[76.46291425565332, 34.83096499156764, 27.29727930268583, 56.42394043324731, 112.6452813107627, 20.39508487059516]\n",
      "axolotl_posidx1\n",
      "loading annotations into memory...\n",
      "Done (t=0.26s)\n",
      "creating index...\n",
      "index created!\n",
      "Loading and preparing results...\n",
      "DONE (t=0.02s)\n",
      "creating index...\n",
      "index created!\n",
      "tokenization...\n"
     ]
    },
    {
     "name": "stderr",
     "output_type": "stream",
     "text": [
      "PTBTokenizer tokenized 307085 tokens at 1156409.04 tokens per second.\n",
      "PTBTokenizer tokenized 51052 tokens at 371212.46 tokens per second.\n"
     ]
    },
    {
     "name": "stdout",
     "output_type": "stream",
     "text": [
      "setting up scorers...\n",
      "computing Bleu score...\n",
      "{'testlen': 46053, 'reflen': 46424, 'guess': [46053, 41053, 36067, 31084], 'correct': [35418, 19659, 9770, 4791]}\n",
      "ratio: 0.992008443908302\n",
      "Bleu_1: 0.763\n",
      "Bleu_2: 0.602\n",
      "Bleu_3: 0.460\n",
      "Bleu_4: 0.349\n",
      "computing METEOR score...\n",
      "METEOR: 0.271\n",
      "computing Rouge score...\n",
      "ROUGE_L: 0.563\n",
      "computing CIDEr score...\n",
      "CIDEr: 1.130\n",
      "computing SPICE score...\n"
     ]
    },
    {
     "name": "stderr",
     "output_type": "stream",
     "text": [
      "WARNING: An illegal reflective access operation has occurred\n",
      "WARNING: Illegal reflective access by org.nustaq.serialization.FSTClazzInfo (file:/home/leonardo/anaconda3/envs/clip_prefix_caption/lib/python3.9/site-packages/pycocoevalcap/spice/lib/fst-2.47.jar) to field java.lang.String.value\n",
      "WARNING: Please consider reporting this to the maintainers of org.nustaq.serialization.FSTClazzInfo\n",
      "WARNING: Use --illegal-access=warn to enable warnings of further illegal reflective access operations\n",
      "WARNING: All illegal access operations will be denied in a future release\n",
      "Parsing reference captions\n",
      "Parsing test captions\n",
      "Warning: Nashorn engine is planned to be removed from a future JDK release\n"
     ]
    },
    {
     "name": "stdout",
     "output_type": "stream",
     "text": [
      "SPICE evaluation took: 6.051 s\n",
      "SPICE: 0.202\n",
      "[76.28997258601949, 34.93135745374279, 27.08133941008462, 56.29332825918553, 112.9735811037541, 20.220623761328007]\n",
      "axolotl_wo_pttokemb\n",
      "loading annotations into memory...\n",
      "Done (t=0.26s)\n",
      "creating index...\n",
      "index created!\n",
      "Loading and preparing results...\n",
      "DONE (t=0.02s)\n",
      "creating index...\n",
      "index created!\n",
      "tokenization...\n"
     ]
    },
    {
     "name": "stderr",
     "output_type": "stream",
     "text": [
      "PTBTokenizer tokenized 307085 tokens at 983594.15 tokens per second.\n",
      "PTBTokenizer tokenized 51005 tokens at 321091.63 tokens per second.\n"
     ]
    },
    {
     "name": "stdout",
     "output_type": "stream",
     "text": [
      "setting up scorers...\n",
      "computing Bleu score...\n",
      "{'testlen': 46006, 'reflen': 46319, 'guess': [46006, 41006, 36006, 31009], 'correct': [35490, 19845, 9930, 4878]}\n",
      "ratio: 0.9932425138711762\n",
      "Bleu_1: 0.766\n",
      "Bleu_2: 0.607\n",
      "Bleu_3: 0.466\n",
      "Bleu_4: 0.354\n",
      "computing METEOR score...\n",
      "METEOR: 0.272\n",
      "computing Rouge score...\n",
      "ROUGE_L: 0.566\n",
      "computing CIDEr score...\n",
      "CIDEr: 1.134\n",
      "computing SPICE score...\n"
     ]
    },
    {
     "name": "stderr",
     "output_type": "stream",
     "text": [
      "WARNING: An illegal reflective access operation has occurred\n",
      "WARNING: Illegal reflective access by org.nustaq.serialization.FSTClazzInfo (file:/home/leonardo/anaconda3/envs/clip_prefix_caption/lib/python3.9/site-packages/pycocoevalcap/spice/lib/fst-2.47.jar) to field java.lang.String.value\n",
      "WARNING: Please consider reporting this to the maintainers of org.nustaq.serialization.FSTClazzInfo\n",
      "WARNING: Use --illegal-access=warn to enable warnings of further illegal reflective access operations\n",
      "WARNING: All illegal access operations will be denied in a future release\n",
      "Parsing reference captions\n",
      "Parsing test captions\n",
      "Warning: Nashorn engine is planned to be removed from a future JDK release\n"
     ]
    },
    {
     "name": "stdout",
     "output_type": "stream",
     "text": [
      "SPICE evaluation took: 6.180 s\n",
      "SPICE: 0.203\n",
      "[76.61905989291891, 35.43245149644355, 27.151022654826733, 56.581749353747746, 113.40440876118163, 20.282026351646394]\n",
      "axolotl_stck\n",
      "loading annotations into memory...\n",
      "Done (t=0.26s)\n",
      "creating index...\n",
      "index created!\n",
      "Loading and preparing results...\n",
      "DONE (t=0.02s)\n",
      "creating index...\n",
      "index created!\n",
      "tokenization...\n"
     ]
    },
    {
     "name": "stderr",
     "output_type": "stream",
     "text": [
      "PTBTokenizer tokenized 307085 tokens at 1112912.48 tokens per second.\n",
      "PTBTokenizer tokenized 51384 tokens at 366383.42 tokens per second.\n"
     ]
    },
    {
     "name": "stdout",
     "output_type": "stream",
     "text": [
      "setting up scorers...\n",
      "computing Bleu score...\n",
      "{'testlen': 46385, 'reflen': 46587, 'guess': [46385, 41385, 36385, 31389], 'correct': [35717, 20085, 10118, 4974]}\n",
      "ratio: 0.9956640264451243\n",
      "Bleu_1: 0.767\n",
      "Bleu_2: 0.609\n",
      "Bleu_3: 0.468\n",
      "Bleu_4: 0.357\n",
      "computing METEOR score...\n",
      "METEOR: 0.271\n",
      "computing Rouge score...\n",
      "ROUGE_L: 0.564\n",
      "computing CIDEr score...\n",
      "CIDEr: 1.129\n",
      "computing SPICE score...\n"
     ]
    },
    {
     "name": "stderr",
     "output_type": "stream",
     "text": [
      "WARNING: An illegal reflective access operation has occurred\n",
      "WARNING: Illegal reflective access by org.nustaq.serialization.FSTClazzInfo (file:/home/leonardo/anaconda3/envs/clip_prefix_caption/lib/python3.9/site-packages/pycocoevalcap/spice/lib/fst-2.47.jar) to field java.lang.String.value\n",
      "WARNING: Please consider reporting this to the maintainers of org.nustaq.serialization.FSTClazzInfo\n",
      "WARNING: Use --illegal-access=warn to enable warnings of further illegal reflective access operations\n",
      "WARNING: All illegal access operations will be denied in a future release\n",
      "Parsing reference captions\n",
      "Parsing test captions\n",
      "Warning: Nashorn engine is planned to be removed from a future JDK release\n"
     ]
    },
    {
     "name": "stdout",
     "output_type": "stream",
     "text": [
      "SPICE evaluation took: 6.128 s\n",
      "SPICE: 0.202\n",
      "[76.66658574129269, 35.66690553664485, 27.080081002602203, 56.43204579341645, 112.85013712796372, 20.219519776661283]\n",
      "axolotl_kw\n",
      "loading annotations into memory...\n",
      "Done (t=0.24s)\n",
      "creating index...\n",
      "index created!\n",
      "Loading and preparing results...\n",
      "DONE (t=0.02s)\n",
      "creating index...\n",
      "index created!\n",
      "tokenization...\n"
     ]
    },
    {
     "name": "stderr",
     "output_type": "stream",
     "text": [
      "PTBTokenizer tokenized 307085 tokens at 1157824.34 tokens per second.\n",
      "PTBTokenizer tokenized 51766 tokens at 376975.07 tokens per second.\n"
     ]
    },
    {
     "name": "stdout",
     "output_type": "stream",
     "text": [
      "setting up scorers...\n",
      "computing Bleu score...\n",
      "{'testlen': 46767, 'reflen': 46582, 'guess': [46767, 41767, 36769, 31775], 'correct': [37853, 20915, 10245, 4771]}\n",
      "ratio: 1.0039714911338928\n",
      "Bleu_1: 0.809\n",
      "Bleu_2: 0.637\n",
      "Bleu_3: 0.483\n",
      "Bleu_4: 0.361\n",
      "computing METEOR score...\n",
      "METEOR: 0.275\n",
      "computing Rouge score...\n",
      "ROUGE_L: 0.569\n",
      "computing CIDEr score...\n",
      "CIDEr: 1.198\n",
      "computing SPICE score...\n"
     ]
    },
    {
     "name": "stderr",
     "output_type": "stream",
     "text": [
      "WARNING: An illegal reflective access operation has occurred\n",
      "WARNING: Illegal reflective access by org.nustaq.serialization.FSTClazzInfo (file:/home/leonardo/anaconda3/envs/clip_prefix_caption/lib/python3.9/site-packages/pycocoevalcap/spice/lib/fst-2.47.jar) to field java.lang.String.value\n",
      "WARNING: Please consider reporting this to the maintainers of org.nustaq.serialization.FSTClazzInfo\n",
      "WARNING: Use --illegal-access=warn to enable warnings of further illegal reflective access operations\n",
      "WARNING: All illegal access operations will be denied in a future release\n",
      "Parsing reference captions\n",
      "Parsing test captions\n",
      "Warning: Nashorn engine is planned to be removed from a future JDK release\n"
     ]
    },
    {
     "name": "stdout",
     "output_type": "stream",
     "text": [
      "SPICE evaluation took: 5.904 s\n",
      "SPICE: 0.205\n",
      "[80.9395513930746, 36.085675986391394, 27.511053234973108, 56.860937768717015, 119.8024088713679, 20.481771259561395]\n"
     ]
    }
   ],
   "source": [
    "annotation_file = 'captions_val2014.json'\n",
    "import numpy as np\n",
    "from glob import glob\n",
    "all_capfiles = glob(\"../../generated_sentences/*.json\", recursive = True)\n",
    "all_capfiles.sort()\n",
    "print(len([file for file in all_capfiles if \"coco\" in file]))\n",
    "basefile = \"../../generated_sentences/vit_KG_pll_base_enc1_final_org_SegParam2_coco.json\".split(\"_\")\n",
    "basename = \"axolotl\"\n",
    "metric_names = [\"Bleu_1\", \"Bleu_4\", \"METEOR\", \"ROUGE_L\", \"CIDEr\", \"SPICE\"]\n",
    "table = [[\"model_name\"] +metric_names]\n",
    "for file in all_capfiles:\n",
    "    if \"coco\" in file:\n",
    "#         print(file)\n",
    "        splitfile = file.split(\"_\")\n",
    "        difffile = [word for word in splitfile if word not in basefile]\n",
    "        newname = basename+\"_\" +\"_\".join(difffile)\n",
    "        print(newname)\n",
    "        coco = COCO(annotation_file)\n",
    "        coco_result = coco.loadRes(file)\n",
    "        coco_eval = COCOEvalCap(coco, coco_result)\n",
    "        coco_eval.params['image_id'] = coco_result.getImgIds()\n",
    "        coco_eval.evaluate()\n",
    "        entry = [newname]\n",
    "        model_res = list(np.array([coco_eval.eval[metr] for metr in metric_names])*100)\n",
    "        entry += model_res\n",
    "        print(model_res)\n",
    "        table.append(entry)"
   ]
  },
  {
   "cell_type": "code",
   "execution_count": 10,
   "id": "0fee37ac",
   "metadata": {},
   "outputs": [
    {
     "name": "stdout",
     "output_type": "stream",
     "text": [
      "model_name             Bleu_1    Bleu_4    METEOR    ROUGE_L    CIDEr    SPICE\n",
      "-------------------  --------  --------  --------  ---------  -------  -------\n",
      "axolotl_NoRel         76.9148   35.5604   27.1589    56.4772  113.648  20.1768\n",
      "axolotl_RCl2r         75.9093   35.177    27.0816    56.0693  112.945  20.2326\n",
      "axolotl_SEGKW         76.8176   35.5387   27.2002    56.467   113.349  20.2482\n",
      "axolotl_              81.7776   37.2962   27.5949    57.3121  121.197  20.5645\n",
      "axolotl_plldec1       76.4629   34.831    27.2973    56.4239  112.645  20.3951\n",
      "axolotl_posidx1       76.29     34.9314   27.0813    56.2933  112.974  20.2206\n",
      "axolotl_wo_pttokemb   76.6191   35.4325   27.151     56.5817  113.404  20.282\n",
      "axolotl_stck          76.6666   35.6669   27.0801    56.432   112.85   20.2195\n",
      "axolotl_kw            80.9396   36.0857   27.5111    56.8609  119.802  20.4818\n"
     ]
    }
   ],
   "source": [
    "print(tabulate(table, headers='firstrow'))"
   ]
  },
  {
   "cell_type": "code",
   "execution_count": 1,
   "id": "c921114b",
   "metadata": {},
   "outputs": [],
   "source": [
    "# create coco object and coco_result object\n",
    "coco = COCO(annotation_file)\n",
    "coco_result = coco.loadRes(results_file)\n",
    "coco_eval = COCOEvalCap(coco, coco_result)\n",
    "coco_eval.params['image_id'] = coco_result.getImgIds()\n",
    "coco_eval.evaluate()"
   ]
  },
  {
   "cell_type": "code",
   "execution_count": null,
   "id": "9206975a",
   "metadata": {},
   "outputs": [],
   "source": [
    "# print output evaluation scores\n",
    "for metric, score in coco_eval.eval.items():\n",
    "    print(f'{metric}: {score:.3f}')"
   ]
  },
  {
   "cell_type": "code",
   "execution_count": null,
   "id": "80c17069",
   "metadata": {},
   "outputs": [],
   "source": []
  }
 ],
 "metadata": {
  "kernelspec": {
   "display_name": "clip_prefix_caption",
   "language": "python",
   "name": "clip_prefix_caption"
  },
  "language_info": {
   "codemirror_mode": {
    "name": "ipython",
    "version": 3
   },
   "file_extension": ".py",
   "mimetype": "text/x-python",
   "name": "python",
   "nbconvert_exporter": "python",
   "pygments_lexer": "ipython3",
   "version": "3.9.7"
  }
 },
 "nbformat": 4,
 "nbformat_minor": 5
}
