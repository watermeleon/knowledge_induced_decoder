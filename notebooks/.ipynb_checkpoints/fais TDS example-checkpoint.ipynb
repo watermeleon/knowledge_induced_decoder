{
 "cells": [
  {
   "cell_type": "code",
   "execution_count": 1,
   "id": "21662893",
   "metadata": {},
   "outputs": [],
   "source": [
    "import numpy as np \n",
    "import faiss  # this will import the faiss library"
   ]
  },
  {
   "cell_type": "code",
   "execution_count": 3,
   "id": "6bf52475",
   "metadata": {},
   "outputs": [],
   "source": [
    "dimension = 128    # dimensions of each vector                         \n",
    "n = 200    # number of vectors     \n",
    "np.random.seed(1)             \n",
    "db_vectors = np.random.random((n, dimension)).astype('float32')\n",
    "\n",
    "\n",
    "nlist = 5  # number of cluster\n",
    "quantiser = faiss.IndexFlatL2(dimension)  \n",
    "index = faiss.IndexIVFFlat(quantiser, dimension, nlist,\n",
    "                           faiss.METRIC_L2)"
   ]
  },
  {
   "cell_type": "code",
   "execution_count": 4,
   "id": "e9db4280",
   "metadata": {},
   "outputs": [
    {
     "name": "stdout",
     "output_type": "stream",
     "text": [
      "False\n",
      "0\n",
      "True\n",
      "200\n"
     ]
    }
   ],
   "source": [
    "print(index.is_trained)   # False\n",
    "index.train(db_vectors)  # train on the database vectors\n",
    "print(index.ntotal)   # 0\n",
    "index.add(db_vectors)   # add the vectors and update the index\n",
    "print(index.is_trained)  # True\n",
    "print(index.ntotal)   # 200"
   ]
  },
  {
   "cell_type": "code",
   "execution_count": 5,
   "id": "cae81efb",
   "metadata": {},
   "outputs": [],
   "source": [
    "nprobe = 2  # find 2 most similar clusters\n",
    "n_query = 10  \n",
    "k = 3  # return 3 nearest neighbours\n",
    "np.random.seed(0)   \n",
    "query_vectors = np.random.random((n_query, dimension)).astype('float32')\n",
    "distances, indices = index.search(query_vectors, k)"
   ]
  },
  {
   "cell_type": "code",
   "execution_count": 6,
   "id": "b4de9716",
   "metadata": {},
   "outputs": [
    {
     "data": {
      "text/plain": [
       "array([[185,  35,  96],\n",
       "       [118,  51, 122],\n",
       "       [148, 149, 173],\n",
       "       [175, 177,  50],\n",
       "       [ 44, 144, 174],\n",
       "       [156,  74, 151],\n",
       "       [ 57, 144,  18],\n",
       "       [ 82,  12,  46],\n",
       "       [ 52,  73,  59],\n",
       "       [ 82,  46,  90]])"
      ]
     },
     "execution_count": 6,
     "metadata": {},
     "output_type": "execute_result"
    }
   ],
   "source": [
    "indices"
   ]
  },
  {
   "cell_type": "code",
   "execution_count": null,
   "id": "24c50c80",
   "metadata": {},
   "outputs": [],
   "source": [
    "def get_fais_knn(edges_str_list, edges_emb):\n",
    "    dimension = 128    # dimensions of each vector                         \n",
    "    n = 200    # number of vectors \n",
    "    nlist = 5  # number of cluster\n",
    "    nprobe = 2  # find 2 most similar clusters\n",
    "    k = 3  # return 3 nearest neighbours\n",
    "    \n",
    "    np.random.seed(1)             \n",
    "#     db_vectors = np.random.random((n, dimension)).astype('float32')\n",
    "    quantiser = faiss.IndexFlatL2(dimension)  \n",
    "    index = faiss.IndexIVFFlat(quantiser, dimension, nlist,\n",
    "                               faiss.METRIC_L2)\n",
    "    index.train(db_vectors)  # train on the database vectors\n",
    "    print(index.ntotal)   # 0\n",
    "    index.add(db_vectors)   # add the vectors and update the index\n",
    "    print(index.is_trained)  # True\n",
    "    "
   ]
  },
  {
   "cell_type": "code",
   "execution_count": 8,
   "id": "bedad93d",
   "metadata": {},
   "outputs": [],
   "source": [
    "class get_fais_knn(object):\n",
    "    def __init__(words, embeddings, nlist = 5,nprobe = 2,k = 3):\n",
    "        self.dimension = 512    # dimensions of each vector                         \n",
    "        self.nlist = nlist   # number of cluster\n",
    "        self.nprobe = nprobe  # find 2 most similar clusters\n",
    "        self.k = k       # return 3 nearest neighbours\n",
    "        np.random.seed(1)             \n",
    "        \n",
    "        self.embeddings = embeddings\n",
    "        self.words = self.words\n",
    "        self.quantiser = faiss.IndexFlatL2(self.dimension)  \n",
    "        self.index = faiss.IndexIVFFlat(self.quantiser, self.dimension, self.nlist,\n",
    "                                   faiss.METRIC_L2)\n",
    "        self.index.train(self.embeddings)  # train on the database vectors\n",
    "        print(index.ntotal)   # 0\n",
    "        self.index.add(self.embeddings)   # add the vectors and update the index\n",
    "        print(self.index.is_trained)  # True\n",
    "    \n",
    "    def get_nn(q_emb):\n",
    "        _, indices = index.search(q_emb, self.k)\n",
    "        return self.words[indices]\n",
    "    "
   ]
  },
  {
   "cell_type": "code",
   "execution_count": null,
   "id": "f5bf8146",
   "metadata": {},
   "outputs": [],
   "source": []
  },
  {
   "cell_type": "code",
   "execution_count": null,
   "id": "5101d4b1",
   "metadata": {},
   "outputs": [],
   "source": [
    "self.lookupdict"
   ]
  },
  {
   "cell_type": "code",
   "execution_count": null,
   "id": "4f430802",
   "metadata": {},
   "outputs": [],
   "source": [
    "import torch\n",
    "a = torch.rand(2,3,512)"
   ]
  }
 ],
 "metadata": {
  "kernelspec": {
   "display_name": "clip_prefix_caption",
   "language": "python",
   "name": "clip_prefix_caption"
  },
  "language_info": {
   "codemirror_mode": {
    "name": "ipython",
    "version": 3
   },
   "file_extension": ".py",
   "mimetype": "text/x-python",
   "name": "python",
   "nbconvert_exporter": "python",
   "pygments_lexer": "ipython3",
   "version": "3.9.7"
  }
 },
 "nbformat": 4,
 "nbformat_minor": 5
}
