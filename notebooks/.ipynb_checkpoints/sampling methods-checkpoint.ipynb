{
 "cells": [
  {
   "cell_type": "code",
   "execution_count": 20,
   "id": "c9606e64",
   "metadata": {},
   "outputs": [],
   "source": [
    "import torch\n",
    "import torch.nn.functional as F\n",
    "import numpy as np"
   ]
  },
  {
   "cell_type": "code",
   "execution_count": 3,
   "id": "85376887",
   "metadata": {},
   "outputs": [],
   "source": [
    "b_s = 5\n",
    "candidate_logprob = torch.rand((5,3,2))"
   ]
  },
  {
   "cell_type": "code",
   "execution_count": 51,
   "id": "ed0a75d2",
   "metadata": {},
   "outputs": [
    {
     "name": "stdout",
     "output_type": "stream",
     "text": [
      "tensor([[0.2724, 0.0511, 0.9470, 0.5216, 0.3489, 0.1923],\n",
      "        [0.3194, 0.0460, 0.8248, 0.9526, 0.6115, 0.9662],\n",
      "        [0.1321, 0.2796, 0.5645, 0.8133, 0.1554, 0.9193],\n",
      "        [0.8612, 0.5230, 0.8947, 0.3120, 0.9393, 0.5205],\n",
      "        [0.8114, 0.7109, 0.8322, 0.6311, 0.4735, 0.4460]]) tensor(0.9662)\n",
      "tensor([[0.1418, 0.1137, 0.2785, 0.1820, 0.1531, 0.1309],\n",
      "        [0.1169, 0.0890, 0.1939, 0.2203, 0.1566, 0.2233],\n",
      "        [0.1124, 0.1303, 0.1732, 0.2221, 0.1150, 0.2470],\n",
      "        [0.1954, 0.1394, 0.2021, 0.1128, 0.2113, 0.1390],\n",
      "        [0.1935, 0.1750, 0.1976, 0.1616, 0.1380, 0.1343]])\n",
      "after temp: tensor([[0.0277, 0.0092, 0.8077, 0.0963, 0.0406, 0.0186],\n",
      "        [0.0149, 0.0038, 0.1863, 0.3530, 0.0641, 0.3779],\n",
      "        [0.0106, 0.0222, 0.0922, 0.3198, 0.0119, 0.5433],\n",
      "        [0.2444, 0.0451, 0.2891, 0.0157, 0.3612, 0.0445],\n",
      "        [0.2886, 0.1746, 0.3201, 0.1171, 0.0533, 0.0464]])\n",
      "tensor([[0.0000, 0.0000, 0.8077, 0.0963, 0.0000, 0.0000],\n",
      "        [0.0000, 0.0000, 0.0000, 0.3530, 0.0000, 0.3779],\n",
      "        [0.0000, 0.0000, 0.0000, 0.3198, 0.0000, 0.5433],\n",
      "        [0.0000, 0.0000, 0.2891, 0.0000, 0.3612, 0.0000],\n",
      "        [0.2886, 0.0000, 0.3201, 0.0000, 0.0000, 0.0000]]) tensor([[2],\n",
      "        [3],\n",
      "        [3],\n",
      "        [2],\n",
      "        [2]])\n"
     ]
    }
   ],
   "source": [
    "candidate_logprob = torch.rand((5,3,2))\n",
    "candlog = candidate_logprob.view(b_s, -1)\n",
    "print(candlog, torch.max(candlog))\n",
    "probs = F.softmax(candlog, dim=-1)\n",
    "print(probs)\n",
    "temp = .2\n",
    "if temp is not None:\n",
    "    samp_probs = F.softmax(candlog.div_(temp), dim=-1)\n",
    "else:\n",
    "    samp_probs = probs.clone()\n",
    "print(\"after temp:\",samp_probs)\n",
    "k = 2\n",
    "m = None\n",
    "if k is not None:\n",
    "            indices_to_remove = samp_probs < torch.topk(samp_probs, k)[0][..., -1, None]\n",
    "            samp_probs[indices_to_remove] = 0\n",
    "            if m is not None:\n",
    "                samp_probs.div_(samp_probs.sum(1).unsqueeze(1))\n",
    "                samp_probs.mul_(1-m)\n",
    "                samp_probs.add_(probs.mul(m))\n",
    "            next_tokens = samp_probs.multinomial(1)\n",
    "            next_logprobs = samp_probs.gather(1, next_tokens.view(-1, 1))\n",
    "p = 0.6 \n",
    "sorted_probs, sorted_indices = torch.sort(samp_probs, descending=True)\n",
    "cumulative_probs = torch.cumsum(sorted_probs, dim=-1)\n",
    "sorted_indices_to_remove = cumulative_probs > p\n",
    "sorted_indices_to_remove[:, 1:] = sorted_indices_to_remove[:, :-1].clone()\n",
    "sorted_indices_to_remove[:, 0] = 0\n",
    "sorted_samp_probs = sorted_probs.clone()\n",
    "sorted_samp_probs[sorted_indices_to_remove] = 0\n",
    "# if m is not None:\n",
    "#     sorted_samp_probs.div_(sorted_samp_probs.sum(1).unsqueeze(1))\n",
    "#     sorted_samp_probs.mul_(1-m)\n",
    "#     sorted_samp_probs.add_(sorted_probs.mul(m))\n",
    "sorted_next_indices = sorted_samp_probs.multinomial(1).view(-1, 1)\n",
    "next_tokens = sorted_indices.gather(1, sorted_next_indices)\n",
    "next_logprobs = sorted_samp_probs.gather(1, sorted_next_indices).log()\n",
    "print(samp_probs, next_tokens)"
   ]
  },
  {
   "cell_type": "code",
   "execution_count": 52,
   "id": "b792c578",
   "metadata": {},
   "outputs": [
    {
     "data": {
      "text/plain": [
       "tensor([[0.8077, 0.0000, 0.0000, 0.0000, 0.0000, 0.0000],\n",
       "        [0.3779, 0.3530, 0.0000, 0.0000, 0.0000, 0.0000],\n",
       "        [0.5433, 0.3198, 0.0000, 0.0000, 0.0000, 0.0000],\n",
       "        [0.3612, 0.2891, 0.0000, 0.0000, 0.0000, 0.0000],\n",
       "        [0.3201, 0.2886, 0.0000, 0.0000, 0.0000, 0.0000]])"
      ]
     },
     "execution_count": 52,
     "metadata": {},
     "output_type": "execute_result"
    }
   ],
   "source": [
    "sorted_samp_probs"
   ]
  },
  {
   "cell_type": "code",
   "execution_count": 46,
   "id": "11198b76",
   "metadata": {},
   "outputs": [
    {
     "data": {
      "text/plain": [
       "tensor([[0.6494],\n",
       "        [0.5888],\n",
       "        [0.3720],\n",
       "        [0.3226],\n",
       "        [0.4562]])"
      ]
     },
     "execution_count": 46,
     "metadata": {},
     "output_type": "execute_result"
    }
   ],
   "source": [
    "next_logprobs"
   ]
  },
  {
   "cell_type": "code",
   "execution_count": 12,
   "id": "c6c6f25e",
   "metadata": {},
   "outputs": [],
   "source": [
    "selected_logprob, selected_idx = torch.sort(candidate_logprob.view(b_s, -1), -1, descending=True)"
   ]
  },
  {
   "cell_type": "code",
   "execution_count": 13,
   "id": "4660c6b4",
   "metadata": {},
   "outputs": [
    {
     "name": "stdout",
     "output_type": "stream",
     "text": [
      "tensor([[0.6883, 0.6707, 0.5767, 0.4844, 0.4069, 0.0211],\n",
      "        [0.6070, 0.5587, 0.5398, 0.3479, 0.3192, 0.1867],\n",
      "        [0.7811, 0.7079, 0.5025, 0.2493, 0.2076, 0.1847],\n",
      "        [0.9034, 0.7155, 0.4303, 0.3348, 0.1552, 0.0152],\n",
      "        [0.7834, 0.7049, 0.4613, 0.4049, 0.2520, 0.1491]]) tensor([[3, 2, 5, 0, 4, 1],\n",
      "        [5, 3, 2, 0, 1, 4],\n",
      "        [5, 2, 3, 0, 4, 1],\n",
      "        [2, 5, 3, 0, 1, 4],\n",
      "        [5, 3, 0, 1, 4, 2]])\n"
     ]
    }
   ],
   "source": [
    "print(selected_logprob, selected_idx)"
   ]
  },
  {
   "cell_type": "code",
   "execution_count": 14,
   "id": "806ad8e4",
   "metadata": {},
   "outputs": [],
   "source": [
    "beam_size = 2"
   ]
  },
  {
   "cell_type": "code",
   "execution_count": 15,
   "id": "52b62d13",
   "metadata": {},
   "outputs": [],
   "source": [
    "selected_logprob, selected_idx = selected_logprob[:, :beam_size], selected_idx[:, :beam_size]"
   ]
  },
  {
   "cell_type": "code",
   "execution_count": 16,
   "id": "0de3a998",
   "metadata": {},
   "outputs": [
    {
     "name": "stdout",
     "output_type": "stream",
     "text": [
      "tensor([[0.6883, 0.6707],\n",
      "        [0.6070, 0.5587],\n",
      "        [0.7811, 0.7079],\n",
      "        [0.9034, 0.7155],\n",
      "        [0.7834, 0.7049]]) tensor([[3, 2],\n",
      "        [5, 3],\n",
      "        [5, 2],\n",
      "        [2, 5],\n",
      "        [5, 3]])\n"
     ]
    }
   ],
   "source": [
    "print(selected_logprob, selected_idx)"
   ]
  }
 ],
 "metadata": {
  "kernelspec": {
   "display_name": "clip_prefix_caption",
   "language": "python",
   "name": "clip_prefix_caption"
  },
  "language_info": {
   "codemirror_mode": {
    "name": "ipython",
    "version": 3
   },
   "file_extension": ".py",
   "mimetype": "text/x-python",
   "name": "python",
   "nbconvert_exporter": "python",
   "pygments_lexer": "ipython3",
   "version": "3.9.7"
  }
 },
 "nbformat": 4,
 "nbformat_minor": 5
}
