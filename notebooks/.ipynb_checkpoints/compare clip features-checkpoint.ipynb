{
 "cells": [
  {
   "cell_type": "code",
   "execution_count": 1,
   "id": "02f6f0ec",
   "metadata": {},
   "outputs": [],
   "source": [
    "import numpy as np\n",
    "# from scipy import spatial\n",
    "\n",
    "from transformers import CLIPTextModel, CLIPTokenizer, CLIPModel\n",
    "import pickle\n",
    "import torch\n",
    "# from transformers import AutoTokenizer\n",
    "import csv\n",
    "from collections import defaultdict\n",
    "import clip\n"
   ]
  },
  {
   "cell_type": "code",
   "execution_count": null,
   "id": "8e6acb96",
   "metadata": {},
   "outputs": [],
   "source": []
  },
  {
   "cell_type": "code",
   "execution_count": null,
   "id": "2c3f0639",
   "metadata": {},
   "outputs": [],
   "source": []
  },
  {
   "cell_type": "code",
   "execution_count": null,
   "id": "501af5ff",
   "metadata": {},
   "outputs": [],
   "source": []
  }
 ],
 "metadata": {
  "kernelspec": {
   "display_name": "clip_prefix_caption",
   "language": "python",
   "name": "clip_prefix_caption"
  },
  "language_info": {
   "codemirror_mode": {
    "name": "ipython",
    "version": 3
   },
   "file_extension": ".py",
   "mimetype": "text/x-python",
   "name": "python",
   "nbconvert_exporter": "python",
   "pygments_lexer": "ipython3",
   "version": "3.9.7"
  }
 },
 "nbformat": 4,
 "nbformat_minor": 5
}
