{
 "cells": [
  {
   "cell_type": "code",
   "execution_count": 2,
   "id": "c9606e64",
   "metadata": {},
   "outputs": [],
   "source": [
    "import torch\n",
    "import torch.nn.functional as F\n",
    "import numpy as np"
   ]
  },
  {
   "cell_type": "code",
   "execution_count": 3,
   "id": "85376887",
   "metadata": {},
   "outputs": [],
   "source": [
    "b_s = 2\n",
    "candidate_logprob = torch.rand((5,3,2))"
   ]
  },
  {
   "cell_type": "code",
   "execution_count": 60,
   "id": "ed0a75d2",
   "metadata": {},
   "outputs": [
    {
     "name": "stdout",
     "output_type": "stream",
     "text": [
      "tensor(0.0101) tensor(6.6603e-05)\n",
      "top k tensor([[0.0099],\n",
      "        [0.0091]])\n",
      "tensor(10)\n",
      "val is tensor(0.0101)\n",
      "val is tensor(0.0101)\n",
      "val is tensor(0.0100)\n",
      "val is tensor(0.0100)\n",
      "val is tensor(0.0099)\n",
      "next tensor([[390, 192, 185, 402,  53],\n",
      "        [264, 183, 109, 404, 203]]) torch.Size([10, 1]) torch.Size([2, 500])\n",
      "torch.Size([2, 5])\n"
     ]
    }
   ],
   "source": [
    "candidate_logprob = torch.rand((2, 1, 500))\n",
    "candlog = candidate_logprob.view(b_s, -1)\n",
    "# print(candlog, torch.max(candlog))\n",
    "probs = F.softmax(candlog, dim=-1)\n",
    "# print(probs)\n",
    "temp = .2\n",
    "if temp is not None:\n",
    "    samp_probs = F.softmax(candlog.div_(temp), dim=-1)\n",
    "else:\n",
    "    samp_probs = probs.clone()\n",
    "# print(\"after temp:\",samp_probs)\n",
    "k = 5\n",
    "m = None\n",
    "if k is not None:\n",
    "            print(torch.max(samp_probs[0]), torch.min(samp_probs))\n",
    "#             print(torch.topk(samp_probs, k)[0][..., -1, None])\n",
    "\n",
    "            print(\"top k\", torch.topk(samp_probs, k)[0][..., -1, None])\n",
    "            indices_to_remove = samp_probs < torch.topk(samp_probs, k)[0][..., -1, None]\n",
    "            tot = torch.sum(~indices_to_remove)\n",
    "            print(tot)\n",
    "            samp_probs[indices_to_remove] = 0\n",
    "            for val in samp_probs[0]:\n",
    "                if val>0:\n",
    "                    print(\"val is\", val)\n",
    "            if m is not None:\n",
    "                samp_probs.div_(samp_probs.sum(1).unsqueeze(1))\n",
    "                samp_probs.mul_(1-m)\n",
    "                samp_probs.add_(probs.mul(m))\n",
    "#             next_tokens = torch.stack([samp_probs_batch.multinomial(5,replacement=False) for samp_probs_batch in samp_probs], 0)\n",
    "            next_tokens = samp_probs.multinomial(5,replacement=False) \n",
    "            print(\"next\",next_tokens, next_tokens.view(-1, 1).size(), samp_probs.size())\n",
    "            next_logprobs = samp_probs.gather(1, next_tokens)\n",
    "            print(next_logprobs.size())\n",
    "p = 0.6 \n",
    "sorted_probs, sorted_indices = torch.sort(samp_probs, descending=True)\n",
    "cumulative_probs = torch.cumsum(sorted_probs, dim=-1)\n",
    "sorted_indices_to_remove = cumulative_probs > p\n",
    "sorted_indices_to_remove[:, 1:] = sorted_indices_to_remove[:, :-1].clone()\n",
    "sorted_indices_to_remove[:, 0] = 0\n",
    "sorted_samp_probs = sorted_probs.clone()\n",
    "sorted_samp_probs[sorted_indices_to_remove] = 0\n",
    "# if m is not None:\n",
    "#     sorted_samp_probs.div_(sorted_samp_probs.sum(1).unsqueeze(1))\n",
    "#     sorted_samp_probs.mul_(1-m)\n",
    "#     sorted_samp_probs.add_(sorted_probs.mul(m))\n",
    "sorted_next_indices = sorted_samp_probs.multinomial(1).view(-1, 1)\n",
    "next_tokens = sorted_indices.gather(1, sorted_next_indices)\n",
    "next_logprobs = sorted_samp_probs.gather(1, sorted_next_indices).log()\n",
    "# print(samp_probs, next_tokens)"
   ]
  },
  {
   "cell_type": "code",
   "execution_count": 27,
   "id": "4d020e55",
   "metadata": {},
   "outputs": [
    {
     "data": {
      "text/plain": [
       "torch.Size([120, 1])"
      ]
     },
     "execution_count": 27,
     "metadata": {},
     "output_type": "execute_result"
    }
   ],
   "source": [
    "a = torch.rand((4,5,6))\n",
    "a.view(-1,1).size()\n"
   ]
  },
  {
   "cell_type": "code",
   "execution_count": 52,
   "id": "b792c578",
   "metadata": {},
   "outputs": [
    {
     "data": {
      "text/plain": [
       "tensor([[0.8077, 0.0000, 0.0000, 0.0000, 0.0000, 0.0000],\n",
       "        [0.3779, 0.3530, 0.0000, 0.0000, 0.0000, 0.0000],\n",
       "        [0.5433, 0.3198, 0.0000, 0.0000, 0.0000, 0.0000],\n",
       "        [0.3612, 0.2891, 0.0000, 0.0000, 0.0000, 0.0000],\n",
       "        [0.3201, 0.2886, 0.0000, 0.0000, 0.0000, 0.0000]])"
      ]
     },
     "execution_count": 52,
     "metadata": {},
     "output_type": "execute_result"
    }
   ],
   "source": [
    "sorted_samp_probs"
   ]
  },
  {
   "cell_type": "code",
   "execution_count": 46,
   "id": "11198b76",
   "metadata": {},
   "outputs": [
    {
     "data": {
      "text/plain": [
       "tensor([[0.6494],\n",
       "        [0.5888],\n",
       "        [0.3720],\n",
       "        [0.3226],\n",
       "        [0.4562]])"
      ]
     },
     "execution_count": 46,
     "metadata": {},
     "output_type": "execute_result"
    }
   ],
   "source": [
    "next_logprobs"
   ]
  },
  {
   "cell_type": "code",
   "execution_count": 12,
   "id": "c6c6f25e",
   "metadata": {},
   "outputs": [],
   "source": [
    "selected_logprob, selected_idx = torch.sort(candidate_logprob.view(b_s, -1), -1, descending=True)"
   ]
  },
  {
   "cell_type": "code",
   "execution_count": 13,
   "id": "4660c6b4",
   "metadata": {},
   "outputs": [
    {
     "name": "stdout",
     "output_type": "stream",
     "text": [
      "tensor([[0.6883, 0.6707, 0.5767, 0.4844, 0.4069, 0.0211],\n",
      "        [0.6070, 0.5587, 0.5398, 0.3479, 0.3192, 0.1867],\n",
      "        [0.7811, 0.7079, 0.5025, 0.2493, 0.2076, 0.1847],\n",
      "        [0.9034, 0.7155, 0.4303, 0.3348, 0.1552, 0.0152],\n",
      "        [0.7834, 0.7049, 0.4613, 0.4049, 0.2520, 0.1491]]) tensor([[3, 2, 5, 0, 4, 1],\n",
      "        [5, 3, 2, 0, 1, 4],\n",
      "        [5, 2, 3, 0, 4, 1],\n",
      "        [2, 5, 3, 0, 1, 4],\n",
      "        [5, 3, 0, 1, 4, 2]])\n"
     ]
    }
   ],
   "source": [
    "print(selected_logprob, selected_idx)"
   ]
  },
  {
   "cell_type": "code",
   "execution_count": 14,
   "id": "806ad8e4",
   "metadata": {},
   "outputs": [],
   "source": [
    "beam_size = 2"
   ]
  },
  {
   "cell_type": "code",
   "execution_count": 15,
   "id": "52b62d13",
   "metadata": {},
   "outputs": [],
   "source": [
    "selected_logprob, selected_idx = selected_logprob[:, :beam_size], selected_idx[:, :beam_size]"
   ]
  },
  {
   "cell_type": "code",
   "execution_count": 16,
   "id": "0de3a998",
   "metadata": {},
   "outputs": [
    {
     "name": "stdout",
     "output_type": "stream",
     "text": [
      "tensor([[0.6883, 0.6707],\n",
      "        [0.6070, 0.5587],\n",
      "        [0.7811, 0.7079],\n",
      "        [0.9034, 0.7155],\n",
      "        [0.7834, 0.7049]]) tensor([[3, 2],\n",
      "        [5, 3],\n",
      "        [5, 2],\n",
      "        [2, 5],\n",
      "        [5, 3]])\n"
     ]
    }
   ],
   "source": [
    "print(selected_logprob, selected_idx)"
   ]
  },
  {
   "cell_type": "code",
   "execution_count": 64,
   "id": "4eb6fe85",
   "metadata": {},
   "outputs": [
    {
     "name": "stdout",
     "output_type": "stream",
     "text": [
      "tensor([[0.1514, 0.3058, 0.5706, 0.1889],\n",
      "        [0.9444, 0.0556, 0.0396, 0.5188],\n",
      "        [0.9170, 0.8527, 0.2875, 0.9786]])\n",
      "tensor([[0, 3, 1, 2],\n",
      "        [2, 1, 3, 0],\n",
      "        [2, 1, 0, 3]])\n"
     ]
    },
    {
     "ename": "IndexError",
     "evalue": "index 3 is out of bounds for dimension 0 with size 3",
     "output_type": "error",
     "traceback": [
      "\u001b[0;31m---------------------------------------------------------------------------\u001b[0m",
      "\u001b[0;31mIndexError\u001b[0m                                Traceback (most recent call last)",
      "\u001b[0;32m/tmp/ipykernel_6006/3210872709.py\u001b[0m in \u001b[0;36m<module>\u001b[0;34m\u001b[0m\n\u001b[1;32m      3\u001b[0m \u001b[0mprint\u001b[0m\u001b[0;34m(\u001b[0m\u001b[0ma\u001b[0m\u001b[0;34m)\u001b[0m\u001b[0;34m\u001b[0m\u001b[0;34m\u001b[0m\u001b[0m\n\u001b[1;32m      4\u001b[0m \u001b[0mprint\u001b[0m\u001b[0;34m(\u001b[0m\u001b[0mindx\u001b[0m\u001b[0;34m)\u001b[0m\u001b[0;34m\u001b[0m\u001b[0;34m\u001b[0m\u001b[0m\n\u001b[0;32m----> 5\u001b[0;31m \u001b[0mb\u001b[0m \u001b[0;34m=\u001b[0m \u001b[0ma\u001b[0m\u001b[0;34m[\u001b[0m\u001b[0mindx\u001b[0m\u001b[0;34m]\u001b[0m\u001b[0;34m\u001b[0m\u001b[0;34m\u001b[0m\u001b[0m\n\u001b[0m\u001b[1;32m      6\u001b[0m \u001b[0mprint\u001b[0m\u001b[0;34m(\u001b[0m\u001b[0ma\u001b[0m\u001b[0;34m,\u001b[0m\u001b[0mb\u001b[0m\u001b[0;34m)\u001b[0m\u001b[0;34m\u001b[0m\u001b[0;34m\u001b[0m\u001b[0m\n",
      "\u001b[0;31mIndexError\u001b[0m: index 3 is out of bounds for dimension 0 with size 3"
     ]
    }
   ],
   "source": [
    "a = torch.rand((3,4))\n",
    "sorteda, indx = a.sort()\n",
    "print(a)\n",
    "print(indx)\n",
    "b = a[indx]\n",
    "print(a,b)"
   ]
  }
 ],
 "metadata": {
  "kernelspec": {
   "display_name": "clip_prefix_caption",
   "language": "python",
   "name": "clip_prefix_caption"
  },
  "language_info": {
   "codemirror_mode": {
    "name": "ipython",
    "version": 3
   },
   "file_extension": ".py",
   "mimetype": "text/x-python",
   "name": "python",
   "nbconvert_exporter": "python",
   "pygments_lexer": "ipython3",
   "version": "3.9.7"
  }
 },
 "nbformat": 4,
 "nbformat_minor": 5
}
