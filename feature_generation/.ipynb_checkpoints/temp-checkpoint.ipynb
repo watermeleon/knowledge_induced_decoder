{
 "cells": [
  {
   "cell_type": "code",
   "execution_count": 1,
   "id": "e8bf1658",
   "metadata": {},
   "outputs": [],
   "source": [
    "import pickle"
   ]
  },
  {
   "cell_type": "code",
   "execution_count": null,
   "id": "8221d472",
   "metadata": {},
   "outputs": [],
   "source": []
  },
  {
   "cell_type": "code",
   "execution_count": 2,
   "id": "5e23e092",
   "metadata": {},
   "outputs": [],
   "source": [
    "cnpath = \"../../data_files/conceptnet_filt_nest_labels.pkl\"\n",
    "with open(cnpath, 'rb') as f:\n",
    "            CN_dict_old = pickle.load(f)"
   ]
  },
  {
   "cell_type": "code",
   "execution_count": 7,
   "id": "b272ba57",
   "metadata": {},
   "outputs": [],
   "source": [
    "cnpath = \"../../data_files/CN_feats/conceptnet_filt_nest_labels.pkl\"\n",
    "with open(cnpath, 'rb') as f:\n",
    "            CN_dict_newbest = pickle.load(f)"
   ]
  },
  {
   "cell_type": "code",
   "execution_count": 3,
   "id": "a0b6ba0b",
   "metadata": {},
   "outputs": [],
   "source": [
    "cnpath = \"concNet_filt_TEMP_parseRelLabel.pkl\"\n",
    "with open(cnpath, 'rb') as f:\n",
    "            CN_dict_now = pickle.load(f)"
   ]
  },
  {
   "cell_type": "code",
   "execution_count": 8,
   "id": "6ab41a7b",
   "metadata": {},
   "outputs": [
    {
     "name": "stdout",
     "output_type": "stream",
     "text": [
      "9989\n",
      "9420\n",
      "9420\n"
     ]
    }
   ],
   "source": [
    "def stijn(cndict):\n",
    "    print(len(cndict.keys()))\n",
    "    \n",
    "stijn(CN_dict)\n",
    "stijn(CN_dict_now)\n",
    "stijn(CN_dict_newbest)"
   ]
  },
  {
   "cell_type": "code",
   "execution_count": 24,
   "id": "cd753c2c",
   "metadata": {},
   "outputs": [
    {
     "name": "stdout",
     "output_type": "stream",
     "text": [
      "9361\n"
     ]
    }
   ],
   "source": [
    "# for k, v in CN_dict.items():\n",
    "#     if len(v) == 0:\n",
    "#         print(k)\n",
    "        \n",
    "empty = [k for k,v in  CN_dict.items() if len(v) == 0]\n",
    "cnkeys = set(CN_dict.keys()) - set(empty)\n",
    "print(len(cnkeys))"
   ]
  },
  {
   "cell_type": "code",
   "execution_count": 25,
   "id": "0d02b537",
   "metadata": {},
   "outputs": [
    {
     "name": "stdout",
     "output_type": "stream",
     "text": [
      "9420\n"
     ]
    }
   ],
   "source": [
    "empty = [k for k,v in  CN_dict_now.items() if len(v) == 0]\n",
    "cnkeys = set(CN_dict_now.keys()) - set(empty)\n",
    "print(len(cnkeys))"
   ]
  },
  {
   "cell_type": "code",
   "execution_count": 16,
   "id": "bb2336dc",
   "metadata": {},
   "outputs": [],
   "source": [
    "# CN_dict_now.keys()"
   ]
  },
  {
   "cell_type": "code",
   "execution_count": 11,
   "id": "8aa27ba1",
   "metadata": {},
   "outputs": [],
   "source": [
    "import csv\n",
    "openweb10th_path = \"../../data_files/openwebtext_10th.csv\"\n",
    "f = open(openweb10th_path, 'r')\n",
    "with f:\n",
    "    reader = csv.reader(f)\n",
    "    all_openwebwords = [word[0] for word in reader]"
   ]
  },
  {
   "cell_type": "code",
   "execution_count": 15,
   "id": "97f59378",
   "metadata": {},
   "outputs": [
    {
     "data": {
      "text/plain": [
       "9707"
      ]
     },
     "execution_count": 15,
     "metadata": {},
     "output_type": "execute_result"
    }
   ],
   "source": [
    "len(set(all_openwebwords)-stopwords)"
   ]
  },
  {
   "cell_type": "code",
   "execution_count": 14,
   "id": "f7149f64",
   "metadata": {},
   "outputs": [
    {
     "name": "stderr",
     "output_type": "stream",
     "text": [
      "/home/leonardo/anaconda3/envs/clip_prefix_caption/lib/python3.9/site-packages/torch/cuda/__init__.py:80: UserWarning: CUDA initialization: CUDA unknown error - this may be due to an incorrectly set up environment, e.g. changing env variable CUDA_VISIBLE_DEVICES after program start. Setting the available devices to be zero. (Triggered internally at  /opt/conda/conda-bld/pytorch_1640811757271/work/c10/cuda/CUDAFunctions.cpp:112.)\n",
      "  return torch._C._cuda_getDeviceCount() > 0\n"
     ]
    },
    {
     "name": "stdout",
     "output_type": "stream",
     "text": [
      "326\n"
     ]
    }
   ],
   "source": [
    "import spacy\n",
    "nlp = spacy.load(\"en_core_web_sm\")\n",
    "stopwords = nlp.Defaults.stop_words\n",
    "print(len(stopwords))"
   ]
  },
  {
   "cell_type": "code",
   "execution_count": 18,
   "id": "bcfe141e",
   "metadata": {
    "scrolled": false
   },
   "outputs": [
    {
     "name": "stdout",
     "output_type": "stream",
     "text": [
      "didn\n",
      "wants\n",
      "que\n",
      "wasn\n",
      "uses\n",
      "showed\n",
      "updates\n",
      "offers\n",
      "aren\n",
      "wouldn\n",
      "continues\n",
      "appeared\n",
      "requires\n",
      "couldn\n",
      "helps\n",
      "tells\n",
      "condoc\n",
      "suggests\n",
      "stdclass\n",
      "occurred\n",
      "long-term\n",
      "attempts\n",
      "las\n",
      "adds\n",
      "represents\n",
      "remained\n",
      "hasn\n",
      "so-called\n",
      "shouldn\n",
      "por\n",
      "finds\n",
      "e-mail\n",
      "lets\n",
      "kickstarter\n",
      "depends\n",
      "estimates\n",
      "passes\n",
      "emerged\n",
      "resulted\n",
      "asks\n",
      "ufc\n",
      "cruz\n",
      "reveals\n",
      "involves\n",
      "sorts\n",
      "counts\n",
      "getty\n",
      "deck_count\n",
      "card_meta\n",
      "replied\n",
      "aims\n",
      "é\n",
      "hadn\n",
      "approaches\n",
      "struggled\n",
      "existed\n",
      "insisted\n",
      "real-time\n",
      "award-winning\n",
      "deserves\n",
      "à\n",
      "não\n",
      "comey\n",
      "argues\n",
      "wikileaks\n",
      "deemed\n",
      "struggles\n",
      "meets\n",
      "right-wing\n",
      "jumped\n",
      "hong\n",
      "in-depth\n",
      "follow-up\n",
      "third-party\n",
      "newest\n",
      "expects\n",
      "co-founder\n",
      "same-sex\n",
      "reminded\n",
      "well-known\n",
      "reminds\n",
      "enables\n",
      "mais\n",
      "cryptocurrencies\n",
      "thats\n",
      "qb\n",
      "understands\n",
      "bjp\n",
      "decides\n",
      "sends\n",
      "wondered\n",
      "full-time\n",
      "fled\n",
      "searches\n",
      "pelosi\n",
      "feb\n",
      "rankings\n",
      "netanyahu\n",
      "throws\n",
      "considers\n",
      "short-term\n",
      "bloomberg\n",
      "admits\n",
      "favorites\n",
      "non-profit\n",
      "relies\n",
      "foi\n",
      "arrives\n",
      "newer\n",
      "sells\n",
      "shareall\n",
      "up0vote\n",
      "assange\n",
      "mentions\n",
      "demonstrates\n",
      "sci-fi\n",
      "postmedia\n",
      "banning\n",
      "lacks\n",
      "lasted\n",
      "spells\n",
      "interestingly\n",
      "på\n",
      "violates\n",
      "outlined\n",
      "refuses\n",
      "confirms\n",
      "counterparts\n",
      "github\n",
      "threatens\n",
      "juan\n",
      "easiest\n",
      "insists\n",
      "jul\n",
      "high-profile\n",
      "two-thirds\n",
      "t-shirt\n",
      "replies\n",
      "rubio\n",
      "all-time\n",
      "primium\n",
      "recalls\n",
      "buzzfeed\n",
      "mcconnell\n",
      "encourages\n",
      "nvidia\n",
      "relied\n",
      "large-scale\n",
      "mma\n",
      "built-in\n",
      "docure\n",
      "govt\n",
      "in-game\n",
      "warns\n",
      "extends\n",
      "enters\n",
      "downvoting\n",
      "assumes\n",
      "gifs\n",
      "well-being\n",
      "encounters\n",
      "sobre\n",
      "discusses\n",
      "updating\n",
      "miscategorized\n",
      "puerto\n",
      "far-right\n",
      "remembers\n",
      "von\n",
      "all-star\n",
      "intends\n",
      "ensures\n",
      "ikke\n",
      "performs\n",
      "în\n",
      "constitutes\n",
      "african-american\n",
      "high-quality\n",
      "low-income\n",
      "figuring\n",
      "opt-out\n",
      "announces\n",
      "recognizing\n",
      "lacked\n",
      "rallies\n",
      "btc\n",
      "opted\n",
      "hottest\n",
      "são\n",
      "left-wing\n",
      "chooses\n",
      "pushes\n",
      "itunes\n",
      "c++\n",
      "más\n",
      "fri\n",
      "emailed\n",
      "concludes\n",
      "improves\n",
      "high-end\n",
      "stumbled\n",
      "real-world\n",
      "4k\n",
      "broncos\n",
      "richest\n",
      "wordpress\n",
      "pelo\n",
      "decision-making\n",
      "patreon\n",
      "aclu\n",
      "rourke\n",
      "shutting\n",
      "up00vote\n",
      "introduces\n",
      "pokemon\n",
      "re-election\n",
      "averaging\n",
      "connects\n",
      "slammed\n",
      "está\n",
      "ignores\n",
      "cites\n",
      "high-level\n",
      "buys\n",
      "two-year\n",
      "criticisms\n",
      "monthwarning\n",
      "manafort\n",
      "spacex\n",
      "five-year\n",
      "boasts\n",
      "anti-semitism\n",
      "quoting\n",
      "acknowledging\n",
      "wi-fi\n",
      "bitcoins\n",
      "notices\n",
      "celebrates\n",
      "open-source\n",
      "acknowledges\n",
      "part-time\n",
      "finishes\n",
      "consoles\n",
      "belonged\n",
      "recommends\n",
      "develops\n",
      "more…\n",
      "sgt\n",
      "illustrates\n",
      "declines\n",
      "recognizes\n",
      "narendra\n",
      "middle-class\n",
      "al-qaeda\n",
      "op-ed\n",
      "voor\n",
      "compares\n",
      "rodriguez\n",
      "proposes\n",
      "geekwire\n",
      "breitbart\n",
      "t-shirts\n",
      "agw\n",
      "non-commercial\n",
      "kushner\n",
      "lebron\n",
      "lobbyists\n",
      "linkedin\n",
      "lasts\n",
      "tax-deductible\n",
      "bryant\n",
      "3ds\n",
      "esta\n",
      "jazeera\n",
      "alleges\n",
      "anti-semitic\n",
      "notre\n",
      "predicts\n",
      "estado\n",
      "employs\n",
      "smiled\n",
      "go-to\n",
      "país\n",
      "advocated\n",
      "segundo\n",
      "brasil\n",
      "bannon\n"
     ]
    }
   ],
   "source": [
    "for word in all_openwebwords:\n",
    "    if word not in CN_dict_now.keys():\n",
    "        if word not in stopwords:\n",
    "            print(word)"
   ]
  },
  {
   "cell_type": "code",
   "execution_count": null,
   "id": "7a81da06",
   "metadata": {},
   "outputs": [],
   "source": []
  }
 ],
 "metadata": {
  "kernelspec": {
   "display_name": "clip_prefix_caption",
   "language": "python",
   "name": "clip_prefix_caption"
  },
  "language_info": {
   "codemirror_mode": {
    "name": "ipython",
    "version": 3
   },
   "file_extension": ".py",
   "mimetype": "text/x-python",
   "name": "python",
   "nbconvert_exporter": "python",
   "pygments_lexer": "ipython3",
   "version": "3.9.7"
  }
 },
 "nbformat": 4,
 "nbformat_minor": 5
}
